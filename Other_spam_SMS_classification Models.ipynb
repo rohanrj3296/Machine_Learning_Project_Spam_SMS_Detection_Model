{
 "cells": [
  {
   "cell_type": "code",
   "execution_count": 1,
   "id": "b883559e",
   "metadata": {},
   "outputs": [],
   "source": [
    "import pandas as pd\n",
    "import re\n",
    "from sklearn.model_selection import train_test_split\n",
    "from sklearn.feature_extraction.text import CountVectorizer\n",
    "#loading the dataset\n",
    "dataset=pd.read_csv('spam.csv',encoding=\"latin-1\")\n",
    "dataset=dataset[['v1','v2']]\n",
    "dataset.columns=['label','text']\n",
    "#preprocessing the text\n",
    "\n",
    "\n",
    "# Apply text preprocessing to the 'v2' column\n",
    "for i in range(len(dataset['text'])):\n",
    "    text = dataset['text'][i]\n",
    "    text = re.sub(r'\\W', ' ', text)\n",
    "    text = text.lower()\n",
    "    dataset.at[i, 'text'] = text\n",
    "#SPLITTING THE DATA IN TO TRAINING AND TEST SET\n",
    "x_train,x_test,y_train,y_test=train_test_split(dataset['text'],dataset['label'],test_size=0.15,random_state=41)\n",
    "from sklearn.feature_extraction.text import CountVectorizer\n",
    "cv=CountVectorizer()\n",
    "x_train=cv.fit_transform(x_train).toarray()\n",
    "x_test=cv.transform(x_test).toarray()\n",
    "#NOW AFTER TRAINING THE CLASSIFIACTION MODELS DO NOT FORGET TO TRANSFORM THE TEXT YOU WANT TO PREDICT WHETHER IT IS A SPAM OR NOT\n"
   ]
  },
  {
   "cell_type": "markdown",
   "id": "d5c87814",
   "metadata": {},
   "source": [
    "k-NN Classifier Model"
   ]
  },
  {
   "cell_type": "code",
   "execution_count": 2,
   "id": "b97d7160",
   "metadata": {},
   "outputs": [
    {
     "data": {
      "text/plain": [
       "0.9497607655502392"
      ]
     },
     "execution_count": 2,
     "metadata": {},
     "output_type": "execute_result"
    }
   ],
   "source": [
    "from sklearn.neighbors import KNeighborsClassifier\n",
    "classifier=KNeighborsClassifier(n_neighbors=1,metric=\"minkowski\",p=2)\n",
    "classifier.fit(x_train,y_train)\n",
    "#testing the k-nn model\n",
    "y_pred=classifier.predict(x_test)\n",
    "#printing the accuracy score\n",
    "from sklearn.metrics import accuracy_score\n",
    "accuracy=accuracy_score(y_pred,y_test)\n",
    "accuracy"
   ]
  },
  {
   "cell_type": "markdown",
   "id": "8056e28e",
   "metadata": {},
   "source": [
    "Trainig naive bayes classifie"
   ]
  },
  {
   "cell_type": "code",
   "execution_count": 3,
   "id": "aa0fcfbb",
   "metadata": {},
   "outputs": [
    {
     "data": {
      "text/plain": [
       "0.8911483253588517"
      ]
     },
     "execution_count": 3,
     "metadata": {},
     "output_type": "execute_result"
    }
   ],
   "source": [
    "from sklearn.naive_bayes import GaussianNB\n",
    "classifier=GaussianNB()\n",
    "classifier.fit(x_train,y_train)\n",
    "y_pred=classifier.predict(x_test)\n",
    "from sklearn.metrics import accuracy_score\n",
    "accuracy=accuracy_score(y_pred,y_test)\n",
    "accuracy"
   ]
  },
  {
   "cell_type": "markdown",
   "id": "cd51d44f",
   "metadata": {},
   "source": [
    "TRAINING DECISION TREE CLASSIFICATION"
   ]
  },
  {
   "cell_type": "code",
   "execution_count": 4,
   "id": "457ac626",
   "metadata": {},
   "outputs": [
    {
     "data": {
      "text/plain": [
       "0.8911483253588517"
      ]
     },
     "execution_count": 4,
     "metadata": {},
     "output_type": "execute_result"
    }
   ],
   "source": [
    "from sklearn.tree import DecisionTreeClassifier\n",
    "classifier=DecisionTreeClassifier(criterion=\"entropy\",random_state=0)\n",
    "classifier.fit(x_train,y_train)\n",
    "from sklearn.tree import DecisionTreeClassifier\n",
    "classifier=DecisionTreeClassifier(criterion=\"entropy\",random_state=0)\n",
    "classifier.fit(x_train,y_train)\n",
    "from sklearn.metrics import accuracy_score\n",
    "accuracy=accuracy_score(y_pred,y_test)\n",
    "accuracy"
   ]
  },
  {
   "cell_type": "markdown",
   "id": "29127da9",
   "metadata": {},
   "source": [
    "TRAINING RANDOM FOREST CLASSIFIER"
   ]
  },
  {
   "cell_type": "code",
   "execution_count": 5,
   "id": "e242a5e1",
   "metadata": {},
   "outputs": [
    {
     "data": {
      "text/plain": [
       "0.972488038277512"
      ]
     },
     "execution_count": 5,
     "metadata": {},
     "output_type": "execute_result"
    }
   ],
   "source": [
    "from sklearn.ensemble import RandomForestClassifier\n",
    "classifier=RandomForestClassifier(n_estimators=55,criterion=\"entropy\",random_state=0)\n",
    "classifier.fit(x_train,y_train)\n",
    "y_pred=classifier.predict(x_test)\n",
    "from sklearn.metrics import accuracy_score\n",
    "accuracy=accuracy_score(y_pred,y_test)\n",
    "accuracy"
   ]
  },
  {
   "cell_type": "markdown",
   "id": "99fb242a",
   "metadata": {},
   "source": [
    "TRAINING THE LOGISTIC REGRESSION"
   ]
  },
  {
   "cell_type": "code",
   "execution_count": 6,
   "id": "16983aef",
   "metadata": {},
   "outputs": [
    {
     "data": {
      "text/plain": [
       "0.9808612440191388"
      ]
     },
     "execution_count": 6,
     "metadata": {},
     "output_type": "execute_result"
    }
   ],
   "source": [
    "from sklearn.linear_model import LogisticRegression\n",
    "classifier=LogisticRegression()\n",
    "classifier.fit(x_train,y_train)\n",
    "y_pred=classifier.predict(x_test)\n",
    "from sklearn.metrics import accuracy_score\n",
    "accuracy=accuracy_score(y_pred,y_test)\n",
    "accuracy"
   ]
  },
  {
   "cell_type": "markdown",
   "id": "5447b3cb",
   "metadata": {},
   "source": [
    "TRAINING THE NAIVE BAYES MODEL"
   ]
  },
  {
   "cell_type": "code",
   "execution_count": 7,
   "id": "89d788e2",
   "metadata": {},
   "outputs": [
    {
     "data": {
      "text/plain": [
       "0.8911483253588517"
      ]
     },
     "execution_count": 7,
     "metadata": {},
     "output_type": "execute_result"
    }
   ],
   "source": [
    "from sklearn.naive_bayes import GaussianNB\n",
    "classifier=GaussianNB()\n",
    "classifier.fit(x_train,y_train)\n",
    "y_pred=classifier.predict(x_test)\n",
    "from sklearn.metrics import accuracy_score\n",
    "accuracy=accuracy_score(y_pred,y_test)\n",
    "accuracy"
   ]
  },
  {
   "cell_type": "code",
   "execution_count": null,
   "id": "3ea45298",
   "metadata": {},
   "outputs": [],
   "source": []
  }
 ],
 "metadata": {
  "kernelspec": {
   "display_name": "Python 3 (ipykernel)",
   "language": "python",
   "name": "python3"
  },
  "language_info": {
   "codemirror_mode": {
    "name": "ipython",
    "version": 3
   },
   "file_extension": ".py",
   "mimetype": "text/x-python",
   "name": "python",
   "nbconvert_exporter": "python",
   "pygments_lexer": "ipython3",
   "version": "3.9.18"
  }
 },
 "nbformat": 4,
 "nbformat_minor": 5
}
