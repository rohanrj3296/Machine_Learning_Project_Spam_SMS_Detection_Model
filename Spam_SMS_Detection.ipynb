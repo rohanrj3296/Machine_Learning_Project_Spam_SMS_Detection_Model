{
 "cells": [
  {
   "cell_type": "code",
   "execution_count": 2,
   "id": "77794780",
   "metadata": {},
   "outputs": [
    {
     "data": {
      "text/plain": [
       "0.9844497607655502"
      ]
     },
     "execution_count": 2,
     "metadata": {},
     "output_type": "execute_result"
    }
   ],
   "source": [
    "#DO READ  ALL THE COMMENTS\n",
    "'''To build this spam detection machine learning model I have used BAG OF WORDS MODEL of Natural Language Processing.After Processing \n",
    "the messages I have ran the following classification algorithms:K-Nearest-Neighbours(accuracy=94.97%), Naive Bayes algorithm(accuracy=89.11%),\n",
    "Decision Tree Classification algorithm(96.77%), Random Forest Classification Algorithm(accuracy=97.24%), Multinomial Naive Bayes\n",
    "Algorithm(accuracy=98.44%),Logistic Regression(accuracy=98.08%) and Support Vector Machine Algorithm(accuracy=97.96%)'''\n",
    "\n",
    "#To calculate the accuracy of model I have divided the dataset into Training and Testing set with 85:15 ratio\n",
    "\n",
    "# I have selected Multinomial Naive Bayes Classification Algorithm , Because it is accurate to 98.44%\n",
    "\n",
    "\n",
    "\n",
    "\n",
    "#Importing the required libraries and tools from various modules\n",
    "import pandas as pd\n",
    "import re\n",
    "from sklearn.model_selection import train_test_split\n",
    "from sklearn.feature_extraction.text import CountVectorizer\n",
    "\n",
    "#Loading the dataset\n",
    "dataset=pd.read_csv('spam.csv',encoding=\"latin-1\")\n",
    "dataset=dataset[['v1','v2']]\n",
    "dataset.columns=['label','text']\n",
    "#\n",
    "\n",
    "\n",
    "# Apply text preprocessing to the 'text' column\n",
    "for i in range(len(dataset['text'])):\n",
    "    text = dataset['text'][i]\n",
    "    text = re.sub(r'\\W', ' ', text)\n",
    "    text = text.lower()\n",
    "    dataset.at[i, 'text'] = text\n",
    "\n",
    "#SPLITTING THE DATA IN TO TRAINING AND TEST SET WITH TEST SIZE = 0.15\n",
    "x_train,x_test,y_train,y_test=train_test_split(dataset['text'],dataset['label'],test_size=0.15,random_state=41)\n",
    "\n",
    "\n",
    "\n",
    "#CREATING A BAG OF WORDS \n",
    "from sklearn.feature_extraction.text import CountVectorizer\n",
    "cv=CountVectorizer()\n",
    "x_train=cv.fit_transform(x_train).toarray()\n",
    "x_test=cv.transform(x_test).toarray()\n",
    "\n",
    "\n",
    "#Training The Multinomail Naive Bayes Model On The Training Set\n",
    "from sklearn.naive_bayes import MultinomialNB\n",
    "classifier=MultinomialNB()\n",
    "classifier.fit(x_train,y_train)\n",
    "y_pred=classifier.predict(x_test)\n",
    "\n",
    "#Calculating The Accuracy Of Model\n",
    "from sklearn.metrics import accuracy_score\n",
    "accuracy=accuracy_score(y_pred,y_test)\n",
    "print(f\"The accuracy of this model is: {accuracy}\")\n",
    "\n",
    "\n",
    "\n",
    "#Predicting Whether an SMS is a Spam or Not\n",
    "input_text=input(\"Enter Your Message: \")\n",
    "text = re.sub(r'\\W', ' ', text)\n",
    "text = text.lower()\n",
    "input_vector = cv.transform([input_text])\n",
    "prediction = classifier.predict(input_vector)\n",
    "\n",
    "if prediction[0] == 'spam':\n",
    "    print(\"This message is spam.\")\n",
    "else:\n",
    "    print(\"This message is not spam.\")\n",
    "\n",
    "\n"
   ]
  },
  {
   "cell_type": "code",
   "execution_count": null,
   "id": "55105e2d",
   "metadata": {},
   "outputs": [],
   "source": []
  },
  {
   "cell_type": "code",
   "execution_count": null,
   "id": "4d831f42",
   "metadata": {},
   "outputs": [],
   "source": []
  }
 ],
 "metadata": {
  "kernelspec": {
   "display_name": "Python 3 (ipykernel)",
   "language": "python",
   "name": "python3"
  },
  "language_info": {
   "codemirror_mode": {
    "name": "ipython",
    "version": 3
   },
   "file_extension": ".py",
   "mimetype": "text/x-python",
   "name": "python",
   "nbconvert_exporter": "python",
   "pygments_lexer": "ipython3",
   "version": "3.9.18"
  }
 },
 "nbformat": 4,
 "nbformat_minor": 5
}
